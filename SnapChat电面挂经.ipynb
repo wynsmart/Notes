{
 "cells": [
  {
   "cell_type": "markdown",
   "metadata": {},
   "source": [
    "# SnapChat 电面挂经\n",
    "\n",
    "## QUESTION\n",
    "\n",
    "A和B在 play game, 从int[]里那数字  \n",
    "A: 拿第一个/最后一个, 都有可能  \n",
    "B: greedy, 总拿第一个/最后一个中最大的  \n",
    "\n",
    "A先开始, 然后B, 轮流, 知道拿完  \n",
    "求A拿到的最大和\n",
    "\n",
    "### EXAMPLE\n",
    "{3,7,2,1}\n",
    "A: {3,1} -- 4\n",
    "B: {7,2} -- 9\n",
    "\n",
    "A: {1,7} -- 8\n",
    "B: {3,2} -- 5\n",
    "\n",
    "### ANSWER\n",
    "8"
   ]
  },
  {
   "cell_type": "markdown",
   "metadata": {},
   "source": [
    "## Recursion\n",
    "\n",
    "$\n",
    "C_{i,j} = \n",
    "\\begin{cases}\n",
    "\\max\\left(\n",
    "\\begin{cases}\n",
    "D_i + C_{i+2,j} & D_{i+1} > D_j\\\\\n",
    "D_i + C_{i+1,j-1}& D_{i+1} < D_j\n",
    "\\end{cases},\n",
    "\\begin{cases}\n",
    "D_j + C_{i,j-2} & D_{j-1} > D_i\\\\\n",
    "D_j + C_{i+1,j-1}& D_{j-1} < D_i\n",
    "\\end{cases}\n",
    "\\right)\\\\\n",
    "D_i & \\text{i = j}\\\\\n",
    "\\max \\left(D_i, D_{i+1}\\right) & \\text{j = i+1}\n",
    "\\end{cases}\n",
    "$"
   ]
  },
  {
   "cell_type": "code",
   "execution_count": 2,
   "metadata": {
    "collapsed": false
   },
   "outputs": [
    {
     "name": "stdout",
     "output_type": "stream",
     "text": [
      "[None, None, None, 8]\n",
      "[None, None, 7, None]\n",
      "[None, None, None, 2]\n",
      "[None, None, None, None]\n",
      "8\n"
     ]
    }
   ],
   "source": [
    "def SnapChat(nums):\n",
    "    '''\n",
    "    Top-Down Dynamic Programming Solution\n",
    "    :param nums: (list) numbers\n",
    "    :return: the maximum A can get\n",
    "    '''\n",
    "    def helper(i, j):\n",
    "        if C[i][j] != None: return C[i][j]\n",
    "        if i == j:\n",
    "            C[i][j] = nums[i]\n",
    "            return C[i][j]\n",
    "        if i == j - 1:\n",
    "            C[i][j] = max(nums[i], nums[j])\n",
    "            return C[i][j]\n",
    "        tryLeft = 0\n",
    "        if nums[i + 1] > nums[j]:\n",
    "            tryLeft = nums[i] + helper(i + 2, j)\n",
    "        else:\n",
    "            tryLeft = nums[i] + helper(i + 1, j - 1)\n",
    "        tryRight = 0\n",
    "        if nums[j - 1] > nums[i]:\n",
    "            tryRight = nums[j] + helper(i, j - 2)\n",
    "        else:\n",
    "            tryRight = nums[j] + helper(i + 1, j - 1)\n",
    "        C[i][j] = max(tryLeft, tryRight)\n",
    "        return C[i][j]\n",
    "\n",
    "    n = len(nums)\n",
    "    C = [[None] * n for _ in range(n)]\n",
    "    ans =  helper(0, n - 1)\n",
    "    for r in C:\n",
    "        print r\n",
    "    return ans\n",
    "\n",
    "nums = [3,7,2,1]\n",
    "print SnapChat(nums)"
   ]
  }
 ],
 "metadata": {
  "kernelspec": {
   "display_name": "Python 2",
   "language": "python",
   "name": "python2"
  },
  "language_info": {
   "codemirror_mode": {
    "name": "ipython",
    "version": 2
   },
   "file_extension": ".py",
   "mimetype": "text/x-python",
   "name": "python",
   "nbconvert_exporter": "python",
   "pygments_lexer": "ipython2",
   "version": "2.7.11"
  }
 },
 "nbformat": 4,
 "nbformat_minor": 0
}
